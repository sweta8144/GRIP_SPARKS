{
  "nbformat": 4,
  "nbformat_minor": 0,
  "metadata": {
    "colab": {
      "name": "MinorProject.ipynb",
      "provenance": [],
      "collapsed_sections": [],
      "include_colab_link": true
    },
    "kernelspec": {
      "display_name": "Python 3",
      "name": "python3"
    },
    "language_info": {
      "name": "python"
    },
    "widgets": {
      "application/vnd.jupyter.widget-state+json": {
        "1a2a0af9a4c549fdb18bcf7d057a0f58": {
          "model_module": "@jupyter-widgets/controls",
          "model_name": "VBoxModel",
          "model_module_version": "1.5.0",
          "state": {
            "_view_name": "VBoxView",
            "_dom_classes": [
              "widget-interact"
            ],
            "_model_name": "VBoxModel",
            "_view_module": "@jupyter-widgets/controls",
            "_model_module_version": "1.5.0",
            "_view_count": null,
            "_view_module_version": "1.5.0",
            "box_style": "",
            "layout": "IPY_MODEL_c3e815f4ade344b9a25885d7670138c7",
            "_model_module": "@jupyter-widgets/controls",
            "children": [
              "IPY_MODEL_40203475ec7441bfaeb53e7dc7c0b911",
              "IPY_MODEL_2e2faf35faa8442583ca2f9b8bab69e5"
            ]
          }
        },
        "c3e815f4ade344b9a25885d7670138c7": {
          "model_module": "@jupyter-widgets/base",
          "model_name": "LayoutModel",
          "model_module_version": "1.2.0",
          "state": {
            "_view_name": "LayoutView",
            "grid_template_rows": null,
            "right": null,
            "justify_content": null,
            "_view_module": "@jupyter-widgets/base",
            "overflow": null,
            "_model_module_version": "1.2.0",
            "_view_count": null,
            "flex_flow": null,
            "width": null,
            "min_width": null,
            "border": null,
            "align_items": null,
            "bottom": null,
            "_model_module": "@jupyter-widgets/base",
            "top": null,
            "grid_column": null,
            "overflow_y": null,
            "overflow_x": null,
            "grid_auto_flow": null,
            "grid_area": null,
            "grid_template_columns": null,
            "flex": null,
            "_model_name": "LayoutModel",
            "justify_items": null,
            "grid_row": null,
            "max_height": null,
            "align_content": null,
            "visibility": null,
            "align_self": null,
            "height": null,
            "min_height": null,
            "padding": null,
            "grid_auto_rows": null,
            "grid_gap": null,
            "max_width": null,
            "order": null,
            "_view_module_version": "1.2.0",
            "grid_template_areas": null,
            "object_position": null,
            "object_fit": null,
            "grid_auto_columns": null,
            "margin": null,
            "display": null,
            "left": null
          }
        },
        "40203475ec7441bfaeb53e7dc7c0b911": {
          "model_module": "@jupyter-widgets/controls",
          "model_name": "DropdownModel",
          "model_module_version": "1.5.0",
          "state": {
            "_options_labels": [
              "grapes",
              "chickpea",
              "apple",
              "kidneybeans",
              "papaya",
              "mothbeans",
              "pigeonpeas",
              "coffee",
              "cotton",
              "orange",
              "muskmelon",
              "rice",
              "mungbean",
              "maize",
              "banana",
              "coconut",
              "jute",
              "mango",
              "watermelon",
              "pomegranate",
              "blackgram",
              "lentil"
            ],
            "_view_name": "DropdownView",
            "style": "IPY_MODEL_4e27feb406954a19b8a6b944a0415cfd",
            "_dom_classes": [],
            "description": "crops",
            "_model_name": "DropdownModel",
            "index": 7,
            "_view_module": "@jupyter-widgets/controls",
            "_model_module_version": "1.5.0",
            "_view_count": null,
            "disabled": false,
            "_view_module_version": "1.5.0",
            "description_tooltip": null,
            "_model_module": "@jupyter-widgets/controls",
            "layout": "IPY_MODEL_eb524ff1da674c22a6e29af56cefdefb"
          }
        },
        "2e2faf35faa8442583ca2f9b8bab69e5": {
          "model_module": "@jupyter-widgets/output",
          "model_name": "OutputModel",
          "model_module_version": "1.0.0",
          "state": {
            "_view_name": "OutputView",
            "msg_id": "",
            "_dom_classes": [],
            "_model_name": "OutputModel",
            "outputs": [
              {
                "output_type": "stream",
                "name": "stdout",
                "text": [
                  "--------------------------------------------\n",
                  "Statistics for Nitrogen\n",
                  "Minimum Nitrogen required : 80\n",
                  "Average Nitrogen required : 101.2\n",
                  "Maximum Nitrogen required : 120\n",
                  "--------------------------------------------\n",
                  "Statistics for Phosphorus\n",
                  "Minimum Phosphorus required : 15\n",
                  "Average Phosphorus required : 28.74\n",
                  "Maximum Phosphorus required : 40\n",
                  "--------------------------------------------\n",
                  "Statistics for Potassium\n",
                  "Minimum Potassium required : 25\n",
                  "Average Potassium required : 29.94\n",
                  "Maximum Potassium required : 35\n",
                  "--------------------------------------------\n",
                  "Statistics for Temperature\n",
                  "Minimum Temperature required : 23.06\n",
                  "Average Temperature required : 25.54\n",
                  "Maximum Temperature required : 27.92\n",
                  "--------------------------------------------\n",
                  "Statistics for Humidity\n",
                  "Minimum Humidity required : 50.05\n",
                  "Average Humidity required : 58.87\n",
                  "Maximum Humidity required : 69.95\n",
                  "--------------------------------------------\n",
                  "Statistics for ph\n",
                  "Minimum ph required : 6.02\n",
                  "Average ph required : 6.79\n",
                  "Maximum ph required : 7.49\n",
                  "--------------------------------------------\n",
                  "Statistics for Rainfall\n",
                  "Minimum Rainfall required : 115.16\n",
                  "Average Rainfall required : 158.07\n",
                  "Maximum Rainfall required : 199.47\n"
                ]
              }
            ],
            "_view_module": "@jupyter-widgets/output",
            "_model_module_version": "1.0.0",
            "_view_count": null,
            "_view_module_version": "1.0.0",
            "layout": "IPY_MODEL_a30ffc7fe28b4aefa57dd1cc78fcc3d0",
            "_model_module": "@jupyter-widgets/output"
          }
        },
        "4e27feb406954a19b8a6b944a0415cfd": {
          "model_module": "@jupyter-widgets/controls",
          "model_name": "DescriptionStyleModel",
          "model_module_version": "1.5.0",
          "state": {
            "_view_name": "StyleView",
            "_model_name": "DescriptionStyleModel",
            "description_width": "",
            "_view_module": "@jupyter-widgets/base",
            "_model_module_version": "1.5.0",
            "_view_count": null,
            "_view_module_version": "1.2.0",
            "_model_module": "@jupyter-widgets/controls"
          }
        },
        "eb524ff1da674c22a6e29af56cefdefb": {
          "model_module": "@jupyter-widgets/base",
          "model_name": "LayoutModel",
          "model_module_version": "1.2.0",
          "state": {
            "_view_name": "LayoutView",
            "grid_template_rows": null,
            "right": null,
            "justify_content": null,
            "_view_module": "@jupyter-widgets/base",
            "overflow": null,
            "_model_module_version": "1.2.0",
            "_view_count": null,
            "flex_flow": null,
            "width": null,
            "min_width": null,
            "border": null,
            "align_items": null,
            "bottom": null,
            "_model_module": "@jupyter-widgets/base",
            "top": null,
            "grid_column": null,
            "overflow_y": null,
            "overflow_x": null,
            "grid_auto_flow": null,
            "grid_area": null,
            "grid_template_columns": null,
            "flex": null,
            "_model_name": "LayoutModel",
            "justify_items": null,
            "grid_row": null,
            "max_height": null,
            "align_content": null,
            "visibility": null,
            "align_self": null,
            "height": null,
            "min_height": null,
            "padding": null,
            "grid_auto_rows": null,
            "grid_gap": null,
            "max_width": null,
            "order": null,
            "_view_module_version": "1.2.0",
            "grid_template_areas": null,
            "object_position": null,
            "object_fit": null,
            "grid_auto_columns": null,
            "margin": null,
            "display": null,
            "left": null
          }
        },
        "a30ffc7fe28b4aefa57dd1cc78fcc3d0": {
          "model_module": "@jupyter-widgets/base",
          "model_name": "LayoutModel",
          "model_module_version": "1.2.0",
          "state": {
            "_view_name": "LayoutView",
            "grid_template_rows": null,
            "right": null,
            "justify_content": null,
            "_view_module": "@jupyter-widgets/base",
            "overflow": null,
            "_model_module_version": "1.2.0",
            "_view_count": null,
            "flex_flow": null,
            "width": null,
            "min_width": null,
            "border": null,
            "align_items": null,
            "bottom": null,
            "_model_module": "@jupyter-widgets/base",
            "top": null,
            "grid_column": null,
            "overflow_y": null,
            "overflow_x": null,
            "grid_auto_flow": null,
            "grid_area": null,
            "grid_template_columns": null,
            "flex": null,
            "_model_name": "LayoutModel",
            "justify_items": null,
            "grid_row": null,
            "max_height": null,
            "align_content": null,
            "visibility": null,
            "align_self": null,
            "height": null,
            "min_height": null,
            "padding": null,
            "grid_auto_rows": null,
            "grid_gap": null,
            "max_width": null,
            "order": null,
            "_view_module_version": "1.2.0",
            "grid_template_areas": null,
            "object_position": null,
            "object_fit": null,
            "grid_auto_columns": null,
            "margin": null,
            "display": null,
            "left": null
          }
        },
        "f19f917cb75344bea186cc1060471a03": {
          "model_module": "@jupyter-widgets/controls",
          "model_name": "VBoxModel",
          "model_module_version": "1.5.0",
          "state": {
            "_view_name": "VBoxView",
            "_dom_classes": [
              "widget-interact"
            ],
            "_model_name": "VBoxModel",
            "_view_module": "@jupyter-widgets/controls",
            "_model_module_version": "1.5.0",
            "_view_count": null,
            "_view_module_version": "1.5.0",
            "box_style": "",
            "layout": "IPY_MODEL_cffa8514605048a5ad8ac8ed3b7a8113",
            "_model_module": "@jupyter-widgets/controls",
            "children": [
              "IPY_MODEL_7984ed15f07e4dfb9e438f4d64036e6d",
              "IPY_MODEL_7c36ef12002547938ca7cec1c1615270"
            ]
          }
        },
        "cffa8514605048a5ad8ac8ed3b7a8113": {
          "model_module": "@jupyter-widgets/base",
          "model_name": "LayoutModel",
          "model_module_version": "1.2.0",
          "state": {
            "_view_name": "LayoutView",
            "grid_template_rows": null,
            "right": null,
            "justify_content": null,
            "_view_module": "@jupyter-widgets/base",
            "overflow": null,
            "_model_module_version": "1.2.0",
            "_view_count": null,
            "flex_flow": null,
            "width": null,
            "min_width": null,
            "border": null,
            "align_items": null,
            "bottom": null,
            "_model_module": "@jupyter-widgets/base",
            "top": null,
            "grid_column": null,
            "overflow_y": null,
            "overflow_x": null,
            "grid_auto_flow": null,
            "grid_area": null,
            "grid_template_columns": null,
            "flex": null,
            "_model_name": "LayoutModel",
            "justify_items": null,
            "grid_row": null,
            "max_height": null,
            "align_content": null,
            "visibility": null,
            "align_self": null,
            "height": null,
            "min_height": null,
            "padding": null,
            "grid_auto_rows": null,
            "grid_gap": null,
            "max_width": null,
            "order": null,
            "_view_module_version": "1.2.0",
            "grid_template_areas": null,
            "object_position": null,
            "object_fit": null,
            "grid_auto_columns": null,
            "margin": null,
            "display": null,
            "left": null
          }
        },
        "7984ed15f07e4dfb9e438f4d64036e6d": {
          "model_module": "@jupyter-widgets/controls",
          "model_name": "DropdownModel",
          "model_module_version": "1.5.0",
          "state": {
            "_options_labels": [
              "N",
              "P",
              "K",
              "temperature",
              "ph",
              "humidity",
              "rainfall"
            ],
            "_view_name": "DropdownView",
            "style": "IPY_MODEL_3349ef1088bc47bfb63e9ae66fcb643d",
            "_dom_classes": [],
            "description": "conditions",
            "_model_name": "DropdownModel",
            "index": 0,
            "_view_module": "@jupyter-widgets/controls",
            "_model_module_version": "1.5.0",
            "_view_count": null,
            "disabled": false,
            "_view_module_version": "1.5.0",
            "description_tooltip": null,
            "_model_module": "@jupyter-widgets/controls",
            "layout": "IPY_MODEL_376aa06004094424af131c3800c4e8c3"
          }
        },
        "7c36ef12002547938ca7cec1c1615270": {
          "model_module": "@jupyter-widgets/output",
          "model_name": "OutputModel",
          "model_module_version": "1.0.0",
          "state": {
            "_view_name": "OutputView",
            "msg_id": "",
            "_dom_classes": [],
            "_model_name": "OutputModel",
            "outputs": [
              {
                "output_type": "stream",
                "name": "stdout",
                "text": [
                  "Average Value for N is 50.55\n",
                  "--------------------------------------\n",
                  "Rice : 79.89\n",
                  "Black Grams: 40.020000\n",
                  "Banana : 100.23\n",
                  "Jute : 78.40\n",
                  "Coconut : 21.98\n",
                  "Apple : 20.80\n",
                  "Papaya : 49.88\n",
                  "Muskmelon : 100.32\n",
                  "Grapes : 23.18\n",
                  "Watermelon : 99.42\n",
                  "Kidney Beans: 20.750000\n",
                  "Mung Beans: 20.99\n",
                  "Oranges: 19.58\n",
                  "Chick Peas : 40.09\n",
                  "Lentils : 18.77\n",
                  "Cotton : 117.770000\n",
                  "Maize : 77.76\n",
                  "Mothbeans : 21.44\n",
                  "Pigeon Peas : 20.73\n",
                  "Mango : 20.07\n",
                  "Pomegranate : 18.87\n",
                  "Coffee : 101.20\n"
                ]
              }
            ],
            "_view_module": "@jupyter-widgets/output",
            "_model_module_version": "1.0.0",
            "_view_count": null,
            "_view_module_version": "1.0.0",
            "layout": "IPY_MODEL_8c471b7b87014000a3b3c0b280c9a590",
            "_model_module": "@jupyter-widgets/output"
          }
        },
        "3349ef1088bc47bfb63e9ae66fcb643d": {
          "model_module": "@jupyter-widgets/controls",
          "model_name": "DescriptionStyleModel",
          "model_module_version": "1.5.0",
          "state": {
            "_view_name": "StyleView",
            "_model_name": "DescriptionStyleModel",
            "description_width": "",
            "_view_module": "@jupyter-widgets/base",
            "_model_module_version": "1.5.0",
            "_view_count": null,
            "_view_module_version": "1.2.0",
            "_model_module": "@jupyter-widgets/controls"
          }
        },
        "376aa06004094424af131c3800c4e8c3": {
          "model_module": "@jupyter-widgets/base",
          "model_name": "LayoutModel",
          "model_module_version": "1.2.0",
          "state": {
            "_view_name": "LayoutView",
            "grid_template_rows": null,
            "right": null,
            "justify_content": null,
            "_view_module": "@jupyter-widgets/base",
            "overflow": null,
            "_model_module_version": "1.2.0",
            "_view_count": null,
            "flex_flow": null,
            "width": null,
            "min_width": null,
            "border": null,
            "align_items": null,
            "bottom": null,
            "_model_module": "@jupyter-widgets/base",
            "top": null,
            "grid_column": null,
            "overflow_y": null,
            "overflow_x": null,
            "grid_auto_flow": null,
            "grid_area": null,
            "grid_template_columns": null,
            "flex": null,
            "_model_name": "LayoutModel",
            "justify_items": null,
            "grid_row": null,
            "max_height": null,
            "align_content": null,
            "visibility": null,
            "align_self": null,
            "height": null,
            "min_height": null,
            "padding": null,
            "grid_auto_rows": null,
            "grid_gap": null,
            "max_width": null,
            "order": null,
            "_view_module_version": "1.2.0",
            "grid_template_areas": null,
            "object_position": null,
            "object_fit": null,
            "grid_auto_columns": null,
            "margin": null,
            "display": null,
            "left": null
          }
        },
        "8c471b7b87014000a3b3c0b280c9a590": {
          "model_module": "@jupyter-widgets/base",
          "model_name": "LayoutModel",
          "model_module_version": "1.2.0",
          "state": {
            "_view_name": "LayoutView",
            "grid_template_rows": null,
            "right": null,
            "justify_content": null,
            "_view_module": "@jupyter-widgets/base",
            "overflow": null,
            "_model_module_version": "1.2.0",
            "_view_count": null,
            "flex_flow": null,
            "width": null,
            "min_width": null,
            "border": null,
            "align_items": null,
            "bottom": null,
            "_model_module": "@jupyter-widgets/base",
            "top": null,
            "grid_column": null,
            "overflow_y": null,
            "overflow_x": null,
            "grid_auto_flow": null,
            "grid_area": null,
            "grid_template_columns": null,
            "flex": null,
            "_model_name": "LayoutModel",
            "justify_items": null,
            "grid_row": null,
            "max_height": null,
            "align_content": null,
            "visibility": null,
            "align_self": null,
            "height": null,
            "min_height": null,
            "padding": null,
            "grid_auto_rows": null,
            "grid_gap": null,
            "max_width": null,
            "order": null,
            "_view_module_version": "1.2.0",
            "grid_template_areas": null,
            "object_position": null,
            "object_fit": null,
            "grid_auto_columns": null,
            "margin": null,
            "display": null,
            "left": null
          }
        },
        "d80defe0059846c09a39713ac7e1d50a": {
          "model_module": "@jupyter-widgets/controls",
          "model_name": "VBoxModel",
          "model_module_version": "1.5.0",
          "state": {
            "_view_name": "VBoxView",
            "_dom_classes": [
              "widget-interact"
            ],
            "_model_name": "VBoxModel",
            "_view_module": "@jupyter-widgets/controls",
            "_model_module_version": "1.5.0",
            "_view_count": null,
            "_view_module_version": "1.5.0",
            "box_style": "",
            "layout": "IPY_MODEL_89ab8c9696f24acabc7953ff9c79bf1b",
            "_model_module": "@jupyter-widgets/controls",
            "children": [
              "IPY_MODEL_7d1be070d77643038ea0ef0b6aec86dd",
              "IPY_MODEL_75068bda6e1446ef94faf9b3d8e7f45b"
            ]
          }
        },
        "89ab8c9696f24acabc7953ff9c79bf1b": {
          "model_module": "@jupyter-widgets/base",
          "model_name": "LayoutModel",
          "model_module_version": "1.2.0",
          "state": {
            "_view_name": "LayoutView",
            "grid_template_rows": null,
            "right": null,
            "justify_content": null,
            "_view_module": "@jupyter-widgets/base",
            "overflow": null,
            "_model_module_version": "1.2.0",
            "_view_count": null,
            "flex_flow": null,
            "width": null,
            "min_width": null,
            "border": null,
            "align_items": null,
            "bottom": null,
            "_model_module": "@jupyter-widgets/base",
            "top": null,
            "grid_column": null,
            "overflow_y": null,
            "overflow_x": null,
            "grid_auto_flow": null,
            "grid_area": null,
            "grid_template_columns": null,
            "flex": null,
            "_model_name": "LayoutModel",
            "justify_items": null,
            "grid_row": null,
            "max_height": null,
            "align_content": null,
            "visibility": null,
            "align_self": null,
            "height": null,
            "min_height": null,
            "padding": null,
            "grid_auto_rows": null,
            "grid_gap": null,
            "max_width": null,
            "order": null,
            "_view_module_version": "1.2.0",
            "grid_template_areas": null,
            "object_position": null,
            "object_fit": null,
            "grid_auto_columns": null,
            "margin": null,
            "display": null,
            "left": null
          }
        },
        "7d1be070d77643038ea0ef0b6aec86dd": {
          "model_module": "@jupyter-widgets/controls",
          "model_name": "DropdownModel",
          "model_module_version": "1.5.0",
          "state": {
            "_options_labels": [
              "N",
              "P",
              "K",
              "temperature",
              "ph",
              "humidity",
              "rainfall"
            ],
            "_view_name": "DropdownView",
            "style": "IPY_MODEL_7fb089d69c4345afba55a5b38fb25041",
            "_dom_classes": [],
            "description": "conditions",
            "_model_name": "DropdownModel",
            "index": 0,
            "_view_module": "@jupyter-widgets/controls",
            "_model_module_version": "1.5.0",
            "_view_count": null,
            "disabled": false,
            "_view_module_version": "1.5.0",
            "description_tooltip": null,
            "_model_module": "@jupyter-widgets/controls",
            "layout": "IPY_MODEL_331212e7b85446b389ba8f32331f639b"
          }
        },
        "75068bda6e1446ef94faf9b3d8e7f45b": {
          "model_module": "@jupyter-widgets/output",
          "model_name": "OutputModel",
          "model_module_version": "1.0.0",
          "state": {
            "_view_name": "OutputView",
            "msg_id": "",
            "_dom_classes": [],
            "_model_name": "OutputModel",
            "outputs": [
              {
                "output_type": "stream",
                "name": "stdout",
                "text": [
                  "Crops which require greater than average N \n",
                  "\n",
                  "['rice' 'maize' 'chickpea' 'blackgram' 'banana' 'watermelon' 'muskmelon'\n",
                  " 'papaya' 'cotton' 'jute' 'coffee']\n",
                  "-----------------------------\n",
                  "Crops which require less than average N \n",
                  "\n",
                  "['chickpea' 'kidneybeans' 'pigeonpeas' 'mothbeans' 'mungbean' 'blackgram'\n",
                  " 'lentil' 'pomegranate' 'mango' 'grapes' 'apple' 'orange' 'papaya'\n",
                  " 'coconut']\n"
                ]
              }
            ],
            "_view_module": "@jupyter-widgets/output",
            "_model_module_version": "1.0.0",
            "_view_count": null,
            "_view_module_version": "1.0.0",
            "layout": "IPY_MODEL_57b67f714d0b4adc9444f7148353e3dc",
            "_model_module": "@jupyter-widgets/output"
          }
        },
        "7fb089d69c4345afba55a5b38fb25041": {
          "model_module": "@jupyter-widgets/controls",
          "model_name": "DescriptionStyleModel",
          "model_module_version": "1.5.0",
          "state": {
            "_view_name": "StyleView",
            "_model_name": "DescriptionStyleModel",
            "description_width": "",
            "_view_module": "@jupyter-widgets/base",
            "_model_module_version": "1.5.0",
            "_view_count": null,
            "_view_module_version": "1.2.0",
            "_model_module": "@jupyter-widgets/controls"
          }
        },
        "331212e7b85446b389ba8f32331f639b": {
          "model_module": "@jupyter-widgets/base",
          "model_name": "LayoutModel",
          "model_module_version": "1.2.0",
          "state": {
            "_view_name": "LayoutView",
            "grid_template_rows": null,
            "right": null,
            "justify_content": null,
            "_view_module": "@jupyter-widgets/base",
            "overflow": null,
            "_model_module_version": "1.2.0",
            "_view_count": null,
            "flex_flow": null,
            "width": null,
            "min_width": null,
            "border": null,
            "align_items": null,
            "bottom": null,
            "_model_module": "@jupyter-widgets/base",
            "top": null,
            "grid_column": null,
            "overflow_y": null,
            "overflow_x": null,
            "grid_auto_flow": null,
            "grid_area": null,
            "grid_template_columns": null,
            "flex": null,
            "_model_name": "LayoutModel",
            "justify_items": null,
            "grid_row": null,
            "max_height": null,
            "align_content": null,
            "visibility": null,
            "align_self": null,
            "height": null,
            "min_height": null,
            "padding": null,
            "grid_auto_rows": null,
            "grid_gap": null,
            "max_width": null,
            "order": null,
            "_view_module_version": "1.2.0",
            "grid_template_areas": null,
            "object_position": null,
            "object_fit": null,
            "grid_auto_columns": null,
            "margin": null,
            "display": null,
            "left": null
          }
        },
        "57b67f714d0b4adc9444f7148353e3dc": {
          "model_module": "@jupyter-widgets/base",
          "model_name": "LayoutModel",
          "model_module_version": "1.2.0",
          "state": {
            "_view_name": "LayoutView",
            "grid_template_rows": null,
            "right": null,
            "justify_content": null,
            "_view_module": "@jupyter-widgets/base",
            "overflow": null,
            "_model_module_version": "1.2.0",
            "_view_count": null,
            "flex_flow": null,
            "width": null,
            "min_width": null,
            "border": null,
            "align_items": null,
            "bottom": null,
            "_model_module": "@jupyter-widgets/base",
            "top": null,
            "grid_column": null,
            "overflow_y": null,
            "overflow_x": null,
            "grid_auto_flow": null,
            "grid_area": null,
            "grid_template_columns": null,
            "flex": null,
            "_model_name": "LayoutModel",
            "justify_items": null,
            "grid_row": null,
            "max_height": null,
            "align_content": null,
            "visibility": null,
            "align_self": null,
            "height": null,
            "min_height": null,
            "padding": null,
            "grid_auto_rows": null,
            "grid_gap": null,
            "max_width": null,
            "order": null,
            "_view_module_version": "1.2.0",
            "grid_template_areas": null,
            "object_position": null,
            "object_fit": null,
            "grid_auto_columns": null,
            "margin": null,
            "display": null,
            "left": null
          }
        }
      }
    }
  },
  "cells": [
    {
      "cell_type": "markdown",
      "metadata": {
        "id": "view-in-github",
        "colab_type": "text"
      },
      "source": [
        "<a href=\"https://colab.research.google.com/github/sweta8144/GRIP_SPARKS/blob/main/MinorProject.ipynb\" target=\"_parent\"><img src=\"https://colab.research.google.com/assets/colab-badge.svg\" alt=\"Open In Colab\"/></a>"
      ]
    },
    {
      "cell_type": "markdown",
      "metadata": {
        "id": "jMOv5IWIRUnd"
      },
      "source": [
        "# **Crop Prediction using Machine Learning**\n",
        "\n",
        "**October 29**"
      ]
    },
    {
      "cell_type": "markdown",
      "metadata": {
        "id": "FNtkehjA0J3f"
      },
      "source": [
        "# New Section"
      ]
    },
    {
      "cell_type": "code",
      "metadata": {
        "id": "N0PclBDDvn3E"
      },
      "source": [
        "\n",
        "# for data manipulations\n",
        "import numpy as np\n",
        "import pandas as pd\n",
        "\n",
        "# for visualization of data\n",
        "import matplotlib.pyplot as plt\n",
        "import seaborn as sns\n",
        "\n",
        "# for interactivity\n",
        "from ipywidgets import interact\n",
        "\n",
        "# Lets read the dataset\n",
        "data = pd.read_csv('data.csv')"
      ],
      "execution_count": 2,
      "outputs": []
    },
    {
      "cell_type": "code",
      "metadata": {
        "id": "Ww549diR7zLh",
        "colab": {
          "base_uri": "https://localhost:8080/"
        },
        "outputId": "fd82b7be-746b-463a-9b4f-f8c21bd2dabb"
      },
      "source": [
        "# Lets check shape of the dataset\n",
        "print(\"Shape of the Dataset :\", data.shape)"
      ],
      "execution_count": 3,
      "outputs": [
        {
          "output_type": "stream",
          "name": "stdout",
          "text": [
            "Shape of the Dataset : (2200, 8)\n"
          ]
        }
      ]
    },
    {
      "cell_type": "code",
      "metadata": {
        "id": "7STSHrzT8bCq",
        "colab": {
          "base_uri": "https://localhost:8080/",
          "height": 214
        },
        "outputId": "05c0c576-079f-472a-930e-24abac490cd1"
      },
      "source": [
        "# Lets check the head of the dataset\n",
        "data.head()"
      ],
      "execution_count": 4,
      "outputs": [
        {
          "output_type": "execute_result",
          "data": {
            "text/html": [
              "\n",
              "  <div id=\"df-4bc8f278-ee83-4a3b-b246-ed927aaa9cce\">\n",
              "    <div class=\"colab-df-container\">\n",
              "      <div>\n",
              "<style scoped>\n",
              "    .dataframe tbody tr th:only-of-type {\n",
              "        vertical-align: middle;\n",
              "    }\n",
              "\n",
              "    .dataframe tbody tr th {\n",
              "        vertical-align: top;\n",
              "    }\n",
              "\n",
              "    .dataframe thead th {\n",
              "        text-align: right;\n",
              "    }\n",
              "</style>\n",
              "<table border=\"1\" class=\"dataframe\">\n",
              "  <thead>\n",
              "    <tr style=\"text-align: right;\">\n",
              "      <th></th>\n",
              "      <th>N</th>\n",
              "      <th>P</th>\n",
              "      <th>K</th>\n",
              "      <th>temperature</th>\n",
              "      <th>humidity</th>\n",
              "      <th>ph</th>\n",
              "      <th>rainfall</th>\n",
              "      <th>label</th>\n",
              "    </tr>\n",
              "  </thead>\n",
              "  <tbody>\n",
              "    <tr>\n",
              "      <th>0</th>\n",
              "      <td>90</td>\n",
              "      <td>42</td>\n",
              "      <td>43</td>\n",
              "      <td>20.879744</td>\n",
              "      <td>82.002744</td>\n",
              "      <td>6.502985</td>\n",
              "      <td>202.935536</td>\n",
              "      <td>rice</td>\n",
              "    </tr>\n",
              "    <tr>\n",
              "      <th>1</th>\n",
              "      <td>85</td>\n",
              "      <td>58</td>\n",
              "      <td>41</td>\n",
              "      <td>21.770462</td>\n",
              "      <td>80.319644</td>\n",
              "      <td>7.038096</td>\n",
              "      <td>226.655537</td>\n",
              "      <td>rice</td>\n",
              "    </tr>\n",
              "    <tr>\n",
              "      <th>2</th>\n",
              "      <td>60</td>\n",
              "      <td>55</td>\n",
              "      <td>44</td>\n",
              "      <td>23.004459</td>\n",
              "      <td>82.320763</td>\n",
              "      <td>7.840207</td>\n",
              "      <td>263.964248</td>\n",
              "      <td>rice</td>\n",
              "    </tr>\n",
              "    <tr>\n",
              "      <th>3</th>\n",
              "      <td>74</td>\n",
              "      <td>35</td>\n",
              "      <td>40</td>\n",
              "      <td>26.491096</td>\n",
              "      <td>80.158363</td>\n",
              "      <td>6.980401</td>\n",
              "      <td>242.864034</td>\n",
              "      <td>rice</td>\n",
              "    </tr>\n",
              "    <tr>\n",
              "      <th>4</th>\n",
              "      <td>78</td>\n",
              "      <td>42</td>\n",
              "      <td>42</td>\n",
              "      <td>20.130175</td>\n",
              "      <td>81.604873</td>\n",
              "      <td>7.628473</td>\n",
              "      <td>262.717340</td>\n",
              "      <td>rice</td>\n",
              "    </tr>\n",
              "  </tbody>\n",
              "</table>\n",
              "</div>\n",
              "      <button class=\"colab-df-convert\" onclick=\"convertToInteractive('df-4bc8f278-ee83-4a3b-b246-ed927aaa9cce')\"\n",
              "              title=\"Convert this dataframe to an interactive table.\"\n",
              "              style=\"display:none;\">\n",
              "        \n",
              "  <svg xmlns=\"http://www.w3.org/2000/svg\" height=\"24px\"viewBox=\"0 0 24 24\"\n",
              "       width=\"24px\">\n",
              "    <path d=\"M0 0h24v24H0V0z\" fill=\"none\"/>\n",
              "    <path d=\"M18.56 5.44l.94 2.06.94-2.06 2.06-.94-2.06-.94-.94-2.06-.94 2.06-2.06.94zm-11 1L8.5 8.5l.94-2.06 2.06-.94-2.06-.94L8.5 2.5l-.94 2.06-2.06.94zm10 10l.94 2.06.94-2.06 2.06-.94-2.06-.94-.94-2.06-.94 2.06-2.06.94z\"/><path d=\"M17.41 7.96l-1.37-1.37c-.4-.4-.92-.59-1.43-.59-.52 0-1.04.2-1.43.59L10.3 9.45l-7.72 7.72c-.78.78-.78 2.05 0 2.83L4 21.41c.39.39.9.59 1.41.59.51 0 1.02-.2 1.41-.59l7.78-7.78 2.81-2.81c.8-.78.8-2.07 0-2.86zM5.41 20L4 18.59l7.72-7.72 1.47 1.35L5.41 20z\"/>\n",
              "  </svg>\n",
              "      </button>\n",
              "      \n",
              "  <style>\n",
              "    .colab-df-container {\n",
              "      display:flex;\n",
              "      flex-wrap:wrap;\n",
              "      gap: 12px;\n",
              "    }\n",
              "\n",
              "    .colab-df-convert {\n",
              "      background-color: #E8F0FE;\n",
              "      border: none;\n",
              "      border-radius: 50%;\n",
              "      cursor: pointer;\n",
              "      display: none;\n",
              "      fill: #1967D2;\n",
              "      height: 32px;\n",
              "      padding: 0 0 0 0;\n",
              "      width: 32px;\n",
              "    }\n",
              "\n",
              "    .colab-df-convert:hover {\n",
              "      background-color: #E2EBFA;\n",
              "      box-shadow: 0px 1px 2px rgba(60, 64, 67, 0.3), 0px 1px 3px 1px rgba(60, 64, 67, 0.15);\n",
              "      fill: #174EA6;\n",
              "    }\n",
              "\n",
              "    [theme=dark] .colab-df-convert {\n",
              "      background-color: #3B4455;\n",
              "      fill: #D2E3FC;\n",
              "    }\n",
              "\n",
              "    [theme=dark] .colab-df-convert:hover {\n",
              "      background-color: #434B5C;\n",
              "      box-shadow: 0px 1px 3px 1px rgba(0, 0, 0, 0.15);\n",
              "      filter: drop-shadow(0px 1px 2px rgba(0, 0, 0, 0.3));\n",
              "      fill: #FFFFFF;\n",
              "    }\n",
              "  </style>\n",
              "\n",
              "      <script>\n",
              "        const buttonEl =\n",
              "          document.querySelector('#df-4bc8f278-ee83-4a3b-b246-ed927aaa9cce button.colab-df-convert');\n",
              "        buttonEl.style.display =\n",
              "          google.colab.kernel.accessAllowed ? 'block' : 'none';\n",
              "\n",
              "        async function convertToInteractive(key) {\n",
              "          const element = document.querySelector('#df-4bc8f278-ee83-4a3b-b246-ed927aaa9cce');\n",
              "          const dataTable =\n",
              "            await google.colab.kernel.invokeFunction('convertToInteractive',\n",
              "                                                     [key], {});\n",
              "          if (!dataTable) return;\n",
              "\n",
              "          const docLinkHtml = 'Like what you see? Visit the ' +\n",
              "            '<a target=\"_blank\" href=https://colab.research.google.com/notebooks/data_table.ipynb>data table notebook</a>'\n",
              "            + ' to learn more about interactive tables.';\n",
              "          element.innerHTML = '';\n",
              "          dataTable['output_type'] = 'display_data';\n",
              "          await google.colab.output.renderOutput(dataTable, element);\n",
              "          const docLink = document.createElement('div');\n",
              "          docLink.innerHTML = docLinkHtml;\n",
              "          element.appendChild(docLink);\n",
              "        }\n",
              "      </script>\n",
              "    </div>\n",
              "  </div>\n",
              "  "
            ],
            "text/plain": [
              "    N   P   K  temperature   humidity        ph    rainfall label\n",
              "0  90  42  43    20.879744  82.002744  6.502985  202.935536  rice\n",
              "1  85  58  41    21.770462  80.319644  7.038096  226.655537  rice\n",
              "2  60  55  44    23.004459  82.320763  7.840207  263.964248  rice\n",
              "3  74  35  40    26.491096  80.158363  6.980401  242.864034  rice\n",
              "4  78  42  42    20.130175  81.604873  7.628473  262.717340  rice"
            ]
          },
          "metadata": {},
          "execution_count": 4
        }
      ]
    },
    {
      "cell_type": "code",
      "metadata": {
        "id": "lp2miTlB856K",
        "colab": {
          "base_uri": "https://localhost:8080/"
        },
        "outputId": "514d6722-e3e7-46b2-d679-e32605734abf"
      },
      "source": [
        "# Lets check if there is any missing value present in the dataset\n",
        "data.isnull().sum()"
      ],
      "execution_count": 5,
      "outputs": [
        {
          "output_type": "execute_result",
          "data": {
            "text/plain": [
              "N              0\n",
              "P              0\n",
              "K              0\n",
              "temperature    0\n",
              "humidity       0\n",
              "ph             0\n",
              "rainfall       0\n",
              "label          0\n",
              "dtype: int64"
            ]
          },
          "metadata": {},
          "execution_count": 5
        }
      ]
    },
    {
      "cell_type": "code",
      "metadata": {
        "id": "X1ldBPzL9JGU",
        "colab": {
          "base_uri": "https://localhost:8080/"
        },
        "outputId": "fb445996-1a80-4d95-a079-74f08120193f"
      },
      "source": [
        "# Checking the different crops in the Dataset\n",
        "data['label'].value_counts()"
      ],
      "execution_count": 6,
      "outputs": [
        {
          "output_type": "execute_result",
          "data": {
            "text/plain": [
              "grapes         100\n",
              "chickpea       100\n",
              "apple          100\n",
              "kidneybeans    100\n",
              "papaya         100\n",
              "mothbeans      100\n",
              "pigeonpeas     100\n",
              "coffee         100\n",
              "cotton         100\n",
              "orange         100\n",
              "muskmelon      100\n",
              "rice           100\n",
              "mungbean       100\n",
              "maize          100\n",
              "banana         100\n",
              "coconut        100\n",
              "jute           100\n",
              "mango          100\n",
              "watermelon     100\n",
              "pomegranate    100\n",
              "blackgram      100\n",
              "lentil         100\n",
              "Name: label, dtype: int64"
            ]
          },
          "metadata": {},
          "execution_count": 6
        }
      ]
    },
    {
      "cell_type": "code",
      "metadata": {
        "id": "7IHhBQA19o6Q",
        "colab": {
          "base_uri": "https://localhost:8080/"
        },
        "outputId": "6f62e14e-0cef-44c7-e4dc-b515edf5eb9b"
      },
      "source": [
        "# Checking the Summary for all the crops \n",
        "print(\"Average of Nitrogen in the Soil : {0:.2f}\".format(data['N'].mean()))\n",
        "print(\"Average of Phosphorus in the Soil : {0:.2f}\".format(data['P'].mean()))\n",
        "print(\"Average of Potassium in the Soil : {0:.2f}\".format(data['K'].mean()))\n",
        "print(\"Average Temperature in Celcius : {0:.2f}\".format(data['temperature'].mean()))\n",
        "print(\"Average Relative Humidity in % : {0:.2f}\".format(data['humidity'].mean()))\n",
        "print(\"Average Rainfall in mm : {0:.2f}\".format(data['rainfall'].mean()))"
      ],
      "execution_count": 7,
      "outputs": [
        {
          "output_type": "stream",
          "name": "stdout",
          "text": [
            "Average of Nitrogen in the Soil : 50.55\n",
            "Average of Phosphorus in the Soil : 53.36\n",
            "Average of Potassium in the Soil : 48.15\n",
            "Average Temperature in Celcius : 25.62\n",
            "Average Relative Humidity in % : 71.48\n",
            "Average Rainfall in mm : 103.46\n"
          ]
        }
      ]
    },
    {
      "cell_type": "code",
      "metadata": {
        "id": "6IRZa74U2VAH",
        "outputId": "f8dc0125-a8f2-4ee1-90ab-dad7c5af00c4",
        "colab": {
          "base_uri": "https://localhost:8080/",
          "height": 656,
          "referenced_widgets": [
            "1a2a0af9a4c549fdb18bcf7d057a0f58",
            "c3e815f4ade344b9a25885d7670138c7",
            "40203475ec7441bfaeb53e7dc7c0b911",
            "2e2faf35faa8442583ca2f9b8bab69e5",
            "4e27feb406954a19b8a6b944a0415cfd",
            "eb524ff1da674c22a6e29af56cefdefb",
            "a30ffc7fe28b4aefa57dd1cc78fcc3d0"
          ]
        }
      },
      "source": [
        " # Lets check the Summary Statistics for each of the crops\n",
        "\n",
        " @interact\n",
        " def summary(crops = list(data['label'].value_counts().index)):\n",
        "     x = data[data['label'] == crops]\n",
        "     print(\"--------------------------------------------\")\n",
        "     print(\"Statistics for Nitrogen\")\n",
        "     print(\"Minimum Nitrogen required :\", x['N'].min())\n",
        "     print(\"Average Nitrogen required :\", x['N'].mean())\n",
        "     print(\"Maximum Nitrogen required :\", x['N'].max())\n",
        "     print(\"--------------------------------------------\")\n",
        "     print(\"Statistics for Phosphorus\")\n",
        "     print(\"Minimum Phosphorus required :\", x['P'].min())\n",
        "     print(\"Average Phosphorus required :\", x['P'].mean())\n",
        "     print(\"Maximum Phosphorus required :\", x['P'].max())         \n",
        "     print(\"--------------------------------------------\")    \n",
        "     print(\"Statistics for Potassium\")\n",
        "     print(\"Minimum Potassium required :\", x['K'].min())\n",
        "     print(\"Average Potassium required :\", x['K'].mean())\n",
        "     print(\"Maximum Potassium required :\", x['K'].max())\n",
        "     print(\"--------------------------------------------\")\n",
        "     print(\"Statistics for Temperature\")\n",
        "     print(\"Minimum Temperature required :{0: .2f}\".format(x['temperature'].min()))\n",
        "     print(\"Average Temperature required :{0: .2f}\".format(x['temperature'].mean()))\n",
        "     print(\"Maximum Temperature required :{0: .2f}\".format(x['temperature'].max()))\n",
        "     print(\"--------------------------------------------\")\n",
        "     print(\"Statistics for Humidity\")\n",
        "     print(\"Minimum Humidity required :{0: .2f}\".format(x['humidity'].min()))\n",
        "     print(\"Average Humidity required :{0: .2f}\".format(x['humidity'].mean()))\n",
        "     print(\"Maximum Humidity required :{0: .2f}\".format(x['humidity'].max()))\n",
        "     print(\"--------------------------------------------\")\n",
        "     print(\"Statistics for ph\")\n",
        "     print(\"Minimum ph required :{0: .2f}\".format(x['ph'].min()))\n",
        "     print(\"Average ph required :{0: .2f}\".format(x['ph'].mean()))\n",
        "     print(\"Maximum ph required :{0: .2f}\".format(x['ph'].max()))\n",
        "     print(\"--------------------------------------------\")\n",
        "     print(\"Statistics for Rainfall\")\n",
        "     print(\"Minimum Rainfall required :{0: .2f}\".format(x['rainfall'].min()))\n",
        "     print(\"Average Rainfall required :{0: .2f}\".format(x['rainfall'].mean()))\n",
        "     print(\"Maximum Rainfall required :{0: .2f}\".format(x['rainfall'].max()))"
      ],
      "execution_count": 8,
      "outputs": [
        {
          "output_type": "display_data",
          "data": {
            "application/vnd.jupyter.widget-view+json": {
              "model_id": "1a2a0af9a4c549fdb18bcf7d057a0f58",
              "version_minor": 0,
              "version_major": 2
            },
            "text/plain": [
              "interactive(children=(Dropdown(description='crops', options=('grapes', 'chickpea', 'apple', 'kidneybeans', 'pa…"
            ]
          },
          "metadata": {}
        }
      ]
    },
    {
      "cell_type": "markdown",
      "source": [
        "# New section"
      ],
      "metadata": {
        "id": "IX2dzXEpDw_f"
      }
    },
    {
      "cell_type": "code",
      "metadata": {
        "id": "aAy0u8RAxSCl",
        "colab": {
          "base_uri": "https://localhost:8080/",
          "height": 465,
          "referenced_widgets": [
            "f19f917cb75344bea186cc1060471a03",
            "cffa8514605048a5ad8ac8ed3b7a8113",
            "7984ed15f07e4dfb9e438f4d64036e6d",
            "7c36ef12002547938ca7cec1c1615270",
            "3349ef1088bc47bfb63e9ae66fcb643d",
            "376aa06004094424af131c3800c4e8c3",
            "8c471b7b87014000a3b3c0b280c9a590"
          ]
        },
        "outputId": "ad3850af-c001-45e9-e0e3-2c05c440c063"
      },
      "source": [
        "@interact \n",
        "def compare (conditions = ['N','P','K', 'temperature', 'ph','humidity', 'rainfall']):\n",
        "\n",
        "    print(\"Average Value for\", conditions, \"is {0:.2f}\".format(data[conditions].mean())) \n",
        "    print(\"--------------------------------------\") \n",
        "    print(\"Rice : {0:.2f}\".format(data[(data['label'] == 'rice')][conditions].mean())) \n",
        "    print(\"Black Grams: {0:2f}\".format(data[data['label'] == 'blackgram'][conditions].mean())) \n",
        "    print(\"Banana : {0:.2f}\".format(data[data['label'] == 'banana'][conditions].mean()))\n",
        "    print(\"Jute : {0:.2f}\".format(data[data['label'] == 'jute'][conditions].mean()))\n",
        "    print(\"Coconut : {0:.2f}\".format(data[(data['label'] == 'coconut')][conditions].mean())) \n",
        "    print(\"Apple : {0:.2f}\".format(data[data['label'] == 'apple'][conditions].mean()))\n",
        "    print(\"Papaya : {0:.2f}\".format(data[data['label'] == 'papaya'][conditions].mean()))\n",
        "    print(\"Muskmelon : {0:.2f}\".format(data[data['label'] == 'muskmelon'][conditions].mean()))\n",
        "    print(\"Grapes : {0:.2f}\".format(data[data['label'] == 'grapes'][conditions].mean()))\n",
        "    print(\"Watermelon : {0:.2f}\".format(data[data['label'] == 'watermelon'][conditions].mean())) \n",
        "    print(\"Kidney Beans: {0:2f}\".format(data[(data['label'] == 'kidneybeans')][conditions ].mean())) \n",
        "    print(\"Mung Beans: {0:.2f}\".format(data[data['label'] == 'mungbean'][conditions].mean()))\n",
        "    print(\"Oranges: {0:.2f}\".format(data[data['label'] == 'orange'][conditions].mean()))\n",
        "    print(\"Chick Peas : {0:.2f}\".format(data[data['label'] == 'chickpea'][conditions].mean()))\n",
        "    print(\"Lentils : {0:.2f}\".format(data[data['label'] == 'lentil'][conditions].mean()))\n",
        "    print(\"Cotton : {0:2f}\".format(data[data['label'] == 'cotton'][conditions].mean())) \n",
        "    print(\"Maize : {0:.2f}\".format(data[(data['label'] == 'maize')][conditions].mean()))\n",
        "    print(\"Mothbeans : {0:.2f}\".format(data[(data['label'] == 'mothbeans')][conditions].mean()))\n",
        "    print(\"Pigeon Peas : {0:.2f}\".format(data[(data['label'] == 'pigeonpeas')][conditions].mean()))\n",
        "    print(\"Mango : {0:.2f}\".format(data[(data['label'] == 'mango')][conditions].mean()))\n",
        "    print(\"Pomegranate : {0:.2f}\".format(data[(data['label'] == 'pomegranate')][conditions].mean()))\n",
        "    print(\"Coffee : {0:.2f}\".format(data[(data['label'] == 'coffee')][conditions].mean()))\n"
      ],
      "execution_count": 10,
      "outputs": [
        {
          "output_type": "display_data",
          "data": {
            "application/vnd.jupyter.widget-view+json": {
              "model_id": "f19f917cb75344bea186cc1060471a03",
              "version_minor": 0,
              "version_major": 2
            },
            "text/plain": [
              "interactive(children=(Dropdown(description='conditions', options=('N', 'P', 'K', 'temperature', 'ph', 'humidit…"
            ]
          },
          "metadata": {}
        }
      ]
    },
    {
      "cell_type": "code",
      "metadata": {
        "id": "wZXUlCjAE-WM",
        "colab": {
          "base_uri": "https://localhost:8080/",
          "height": 222,
          "referenced_widgets": [
            "d80defe0059846c09a39713ac7e1d50a",
            "89ab8c9696f24acabc7953ff9c79bf1b",
            "7d1be070d77643038ea0ef0b6aec86dd",
            "75068bda6e1446ef94faf9b3d8e7f45b",
            "7fb089d69c4345afba55a5b38fb25041",
            "331212e7b85446b389ba8f32331f639b",
            "57b67f714d0b4adc9444f7148353e3dc"
          ]
        },
        "outputId": "ae6ed671-8f87-48d6-ed4a-1403e96451cf"
      },
      "source": [
        "@interact\n",
        "def compare (conditions = ['N','P','K', 'temperature', 'ph','humidity', 'rainfall']):\n",
        "    print(\"Crops which require greater than average\", conditions, '\\n') \n",
        "    print(data[data[conditions] > data[conditions].mean()]['label'].unique()) \n",
        "    print(\"-----------------------------\")\n",
        "    print(\"Crops which require less than average\", conditions, '\\n')\n",
        "    print(data[data[conditions] <= data[conditions].mean()]['label'].unique())"
      ],
      "execution_count": 11,
      "outputs": [
        {
          "output_type": "display_data",
          "data": {
            "application/vnd.jupyter.widget-view+json": {
              "model_id": "d80defe0059846c09a39713ac7e1d50a",
              "version_minor": 0,
              "version_major": 2
            },
            "text/plain": [
              "interactive(children=(Dropdown(description='conditions', options=('N', 'P', 'K', 'temperature', 'ph', 'humidit…"
            ]
          },
          "metadata": {}
        }
      ]
    },
    {
      "cell_type": "code",
      "source": [
        "plt.subplot(2,4,3)\n",
        "sns.distplot(data['K'], color = 'darkblue')\n",
        "plt.xlabel('Ratio of Potassium', fontsize = 12)\n",
        "plt.grid()\n",
        "\n",
        "plt.subplot(2,4,4)\n",
        "sns.distplot(data['temperature'], color = 'black')\n",
        "plt.xlabel('Temperature', fontsize = 12)\n",
        "plt.grid()\n",
        "\n",
        "plt.subplot(2,4,5)\n",
        "sns.distplot(data['rainfall'], color = 'grey')\n",
        "plt.xlabel('Rainfall', fontsize = 12)\n",
        "plt.grid()\n",
        "\n",
        "plt.subplot(2,4,6)\n",
        "sns.distplot(data['humidity'], color = 'lightgreen')\n",
        "plt.xlabel('Humidity', fontsize = 12)\n",
        "plt.grid()\n",
        "\n",
        "plt.subplot(2,4,7)\n",
        "sns.distplot(data['ph'], color = 'darkgreen')\n",
        "plt.xlabel('pH Level', fontsize = 12)\n",
        "plt.grid()\n",
        "\n",
        "plt.suptitle(\"Distribution Plot\", fontsize = 20)\n",
        "plt.show()"
      ],
      "metadata": {
        "colab": {
          "base_uri": "https://localhost:8080/",
          "height": 504
        },
        "id": "DS-eIeDeiFJZ",
        "outputId": "3f84893f-92c7-46b0-fd47-8dd5b5b02621"
      },
      "execution_count": 12,
      "outputs": [
        {
          "output_type": "stream",
          "name": "stderr",
          "text": [
            "/usr/local/lib/python3.7/dist-packages/seaborn/distributions.py:2619: FutureWarning: `distplot` is a deprecated function and will be removed in a future version. Please adapt your code to use either `displot` (a figure-level function with similar flexibility) or `histplot` (an axes-level function for histograms).\n",
            "  warnings.warn(msg, FutureWarning)\n",
            "/usr/local/lib/python3.7/dist-packages/seaborn/distributions.py:2619: FutureWarning: `distplot` is a deprecated function and will be removed in a future version. Please adapt your code to use either `displot` (a figure-level function with similar flexibility) or `histplot` (an axes-level function for histograms).\n",
            "  warnings.warn(msg, FutureWarning)\n",
            "/usr/local/lib/python3.7/dist-packages/seaborn/distributions.py:2619: FutureWarning: `distplot` is a deprecated function and will be removed in a future version. Please adapt your code to use either `displot` (a figure-level function with similar flexibility) or `histplot` (an axes-level function for histograms).\n",
            "  warnings.warn(msg, FutureWarning)\n",
            "/usr/local/lib/python3.7/dist-packages/seaborn/distributions.py:2619: FutureWarning: `distplot` is a deprecated function and will be removed in a future version. Please adapt your code to use either `displot` (a figure-level function with similar flexibility) or `histplot` (an axes-level function for histograms).\n",
            "  warnings.warn(msg, FutureWarning)\n",
            "/usr/local/lib/python3.7/dist-packages/seaborn/distributions.py:2619: FutureWarning: `distplot` is a deprecated function and will be removed in a future version. Please adapt your code to use either `displot` (a figure-level function with similar flexibility) or `histplot` (an axes-level function for histograms).\n",
            "  warnings.warn(msg, FutureWarning)\n"
          ]
        },
        {
          "output_type": "display_data",
          "data": {
            "image/png": "[encoded data removed]",
            "text/plain": [
              "<Figure size 432x288 with 5 Axes>"
            ]
          },
          "metadata": {
            "needs_background": "light"
          }
        }
      ]
    },
    {
      "cell_type": "code",
      "source": [
        "print(\"Some Interesting Pattern\")\n",
        "print(\"-\" * 40)\n",
        "print(\"Crops which requires very Hogh Ratio of Nitrogen Content in Soil:\", data[data['N'] > 120]['label'].unique())\n",
        "print(\"Crops which requires very Hogh Ratio of Phosphorous Content in Soil:\", data[data['P'] > 100]['label'].unique())\n",
        "print(\"Crops which requires very Hogh Ratio of Potassium Content in Soil:\", data[data['K'] > 200]['label'].unique())\n",
        "print(\"Crops which requires very High Rainfall:\", data[data['rainfall'] > 200]['label'].unique())\n",
        "print(\"Crops which requires very Low Temperature:\", data[data['temperature'] < 10]['label'].unique())\n",
        "print(\"Crops which requires very High Temperature:\", data[data['temperature'] > 40]['label'].unique())\n",
        "print(\"Crops which requires very Low Humidity:\", data[data['humidity'] < 20]['label'].unique())\n",
        "print(\"Crops which requires very Low pH:\", data[data['ph'] < 4]['label'].unique())\n",
        "print(\"Crops which requires very High pH:\", data[data['ph'] > 9]['label'].unique())\n"
      ],
      "metadata": {
        "colab": {
          "base_uri": "https://localhost:8080/"
        },
        "id": "Zs0bL-JviLCM",
        "outputId": "b32789c5-57e9-494c-c37f-aa4e8e2b0b1b"
      },
      "execution_count": 13,
      "outputs": [
        {
          "output_type": "stream",
          "name": "stdout",
          "text": [
            "Some Interesting Pattern\n",
            "----------------------------------------\n",
            "Crops which requires very Hogh Ratio of Nitrogen Content in Soil: ['cotton']\n",
            "Crops which requires very Hogh Ratio of Phosphorous Content in Soil: ['grapes' 'apple']\n",
            "Crops which requires very Hogh Ratio of Potassium Content in Soil: ['grapes' 'apple']\n",
            "Crops which requires very High Rainfall: ['rice' 'papaya' 'coconut']\n",
            "Crops which requires very Low Temperature: ['grapes']\n",
            "Crops which requires very High Temperature: ['grapes' 'papaya']\n",
            "Crops which requires very Low Humidity: ['chickpea' 'kidneybeans']\n",
            "Crops which requires very Low pH: ['mothbeans']\n",
            "Crops which requires very High pH: ['mothbeans']\n"
          ]
        }
      ]
    },
    {
      "cell_type": "code",
      "source": [
        "print(\"Summer Crops\")\n",
        "print(data[(data['temperature'] > 20) & (data['humidity'] > 50)]['label'].unique())\n",
        "print(\"-\" * 45)\n",
        "print(\"Winter Crops\")\n",
        "print(data[(data['temperature'] < 20) & (data['humidity'] > 30)]['label'].unique())\n",
        "print(\"-\" * 45)\n",
        "print(\"Rainy Crops\")\n",
        "print(data[(data['rainfall'] > 200) & (data['humidity'] > 30)]['label'].unique())\n"
      ],
      "metadata": {
        "colab": {
          "base_uri": "https://localhost:8080/"
        },
        "id": "5a3Kq70GiO7t",
        "outputId": "307df96a-c7f8-4820-b1c5-6267cd698783"
      },
      "execution_count": 14,
      "outputs": [
        {
          "output_type": "stream",
          "name": "stdout",
          "text": [
            "Summer Crops\n",
            "['rice' 'maize' 'pigeonpeas' 'mothbeans' 'mungbean' 'blackgram' 'lentil'\n",
            " 'pomegranate' 'banana' 'mango' 'grapes' 'watermelon' 'muskmelon' 'apple'\n",
            " 'orange' 'papaya' 'coconut' 'cotton' 'jute' 'coffee']\n",
            "---------------------------------------------\n",
            "Winter Crops\n",
            "['maize' 'pigeonpeas' 'lentil' 'pomegranate' 'grapes' 'orange']\n",
            "---------------------------------------------\n",
            "Rainy Crops\n",
            "['rice' 'papaya' 'coconut']\n"
          ]
        }
      ]
    },
    {
      "cell_type": "code",
      "source": [
        "from sklearn.cluster import KMeans\n",
        "\n",
        "x = data.drop(['label'], axis = 1)\n",
        "x =  x.values\n",
        "print(x.shape)"
      ],
      "metadata": {
        "colab": {
          "base_uri": "https://localhost:8080/"
        },
        "id": "R1ZW7COhiS-9",
        "outputId": "8226337e-acff-4c09-9f48-c87e9cbae9bf"
      },
      "execution_count": 15,
      "outputs": [
        {
          "output_type": "stream",
          "name": "stdout",
          "text": [
            "(2200, 7)\n"
          ]
        }
      ]
    },
    {
      "cell_type": "code",
      "source": [
        "plt.rcParams['figure.figsize'] = (10, 4)\n",
        "\n",
        "wcss = []\n",
        "for i in range(1, 11):\n",
        "    km = KMeans(n_clusters = i, init = 'k-means++', max_iter = 300, n_init = 10, random_state = 0)\n",
        "    km.fit(x)\n",
        "    wcss.append(km.inertia_)\n",
        "\n",
        "plt.plot(range(1, 11), wcss)\n",
        "plt.title(\"The Elbow Method\", fontsize = 20)\n",
        "plt.xlabel(\"No. of Clusters\")\n",
        "plt.ylabel(\"wcss\")\n",
        "plt.show()"
      ],
      "metadata": {
        "colab": {
          "base_uri": "https://localhost:8080/",
          "height": 300
        },
        "id": "DSMkN53IiWdH",
        "outputId": "53136c24-f121-46a5-ff7f-173a66acbd8c"
      },
      "execution_count": 16,
      "outputs": [
        {
          "output_type": "display_data",
          "data": {
            "image/png": "[encoded data removed]",
            "text/plain": [
              "<Figure size 720x288 with 1 Axes>"
            ]
          },
          "metadata": {
            "needs_background": "light"
          }
        }
      ]
    },
    {
      "cell_type": "code",
      "source": [
        "km = KMeans(n_clusters = 4, init = 'k-means++', max_iter = 300, n_init = 10, random_state = 0)\n",
        "y_means = km.fit_predict(x)\n",
        "\n",
        "a = data['label']\n",
        "y_means = pd.DataFrame(y_means)\n",
        "print(y_means)\n",
        "z = pd.concat([y_means, a], axis = 1)\n",
        "z = z.rename(columns = {0 : 'cluster'})\n",
        "print(z)\n",
        "\n",
        "print(\"Crops in First Cluster:\", z[z['cluster'] == 0]['label'].unique())\n",
        "print(\"-\" * 45)\n",
        "\n",
        "print(\"Crops in Second Cluster:\", z[z['cluster'] == 1]['label'].unique())\n",
        "print(\"-\" * 45)\n",
        "print(\"Crops in Third Cluster:\", z[z['cluster'] == 2]['label'].unique())\n",
        "print(\"-\" * 45)\n",
        "print(\"Crops in Fourth Cluster:\", z[z['cluster'] == 3]['label'].unique())"
      ],
      "metadata": {
        "colab": {
          "base_uri": "https://localhost:8080/"
        },
        "id": "lTjMujBwibIQ",
        "outputId": "de4ac636-bad1-4a25-9133-501d20e84b49"
      },
      "execution_count": 17,
      "outputs": [
        {
          "output_type": "stream",
          "name": "stdout",
          "text": [
            "      0\n",
            "0     3\n",
            "1     3\n",
            "2     3\n",
            "3     3\n",
            "4     3\n",
            "...  ..\n",
            "2195  3\n",
            "2196  1\n",
            "2197  3\n",
            "2198  1\n",
            "2199  3\n",
            "\n",
            "[2200 rows x 1 columns]\n",
            "      cluster   label\n",
            "0           3    rice\n",
            "1           3    rice\n",
            "2           3    rice\n",
            "3           3    rice\n",
            "4           3    rice\n",
            "...       ...     ...\n",
            "2195        3  coffee\n",
            "2196        1  coffee\n",
            "2197        3  coffee\n",
            "2198        1  coffee\n",
            "2199        3  coffee\n",
            "\n",
            "[2200 rows x 2 columns]\n",
            "Crops in First Cluster: ['maize' 'chickpea' 'kidneybeans' 'pigeonpeas' 'mothbeans' 'mungbean'\n",
            " 'blackgram' 'lentil' 'pomegranate' 'mango' 'orange' 'papaya' 'coconut']\n",
            "---------------------------------------------\n",
            "Crops in Second Cluster: ['maize' 'banana' 'watermelon' 'muskmelon' 'papaya' 'cotton' 'coffee']\n",
            "---------------------------------------------\n",
            "Crops in Third Cluster: ['grapes' 'apple']\n",
            "---------------------------------------------\n",
            "Crops in Fourth Cluster: ['rice' 'pigeonpeas' 'papaya' 'coconut' 'jute' 'coffee']\n"
          ]
        }
      ]
    },
    {
      "cell_type": "code",
      "source": [
        "# Splitting dataset for Predictive modelling\n",
        "\n",
        "y = data['label']\n",
        "x = data.drop(['label'], axis = 1)\n",
        "\n",
        "print(\"Shape of x:\", x.shape)\n",
        "print(\"Shape of y:\", y.shape)\n"
      ],
      "metadata": {
        "colab": {
          "base_uri": "https://localhost:8080/"
        },
        "id": "njSbrlH3ieYT",
        "outputId": "280d879e-ed6e-480d-82e5-136b4bc0121a"
      },
      "execution_count": 18,
      "outputs": [
        {
          "output_type": "stream",
          "name": "stdout",
          "text": [
            "Shape of x: (2200, 7)\n",
            "Shape of y: (2200,)\n"
          ]
        }
      ]
    },
    {
      "cell_type": "code",
      "source": [
        "# Training and Testing Sets\n",
        "from sklearn.model_selection import train_test_split\n",
        "x_train, x_test, y_train, y_test = train_test_split(x, y, test_size = 0.2, random_state = 0)\n",
        "\n",
        "print(\"Shape of x train:\", x_train.shape)\n",
        "print(\"Shape of x test:\", x_test.shape)\n",
        "print(\"Shape of y train:\", y_train.shape)\n",
        "print(\"Shape of y train:\", y_test.shape)"
      ],
      "metadata": {
        "colab": {
          "base_uri": "https://localhost:8080/"
        },
        "id": "fBMGlNfoihkh",
        "outputId": "01caf882-5375-482d-baee-caa05a5aa0bd"
      },
      "execution_count": 19,
      "outputs": [
        {
          "output_type": "stream",
          "name": "stdout",
          "text": [
            "Shape of x train: (1760, 7)\n",
            "Shape of x test: (440, 7)\n",
            "Shape of y train: (1760,)\n",
            "Shape of y train: (440,)\n"
          ]
        }
      ]
    },
    {
      "cell_type": "code",
      "source": [
        "# Predictive Model\n",
        "\n",
        "from sklearn.linear_model import LogisticRegression\n",
        "\n",
        "model = LogisticRegression()\n",
        "model.fit(x_train, y_train)\n",
        "y_pred = model.predict(x_test)"
      ],
      "metadata": {
        "colab": {
          "base_uri": "https://localhost:8080/"
        },
        "id": "j8-Ez3w3ilAR",
        "outputId": "e7da9eeb-50dc-43ff-9386-97ca109099e1"
      },
      "execution_count": 20,
      "outputs": [
        {
          "output_type": "stream",
          "name": "stderr",
          "text": [
            "/usr/local/lib/python3.7/dist-packages/sklearn/linear_model/_logistic.py:818: ConvergenceWarning: lbfgs failed to converge (status=1):\n",
            "STOP: TOTAL NO. of ITERATIONS REACHED LIMIT.\n",
            "\n",
            "Increase the number of iterations (max_iter) or scale the data as shown in:\n",
            "    https://scikit-learn.org/stable/modules/preprocessing.html\n",
            "Please also refer to the documentation for alternative solver options:\n",
            "    https://scikit-learn.org/stable/modules/linear_model.html#logistic-regression\n",
            "  extra_warning_msg=_LOGISTIC_SOLVER_CONVERGENCE_MSG,\n"
          ]
        }
      ]
    },
    {
      "cell_type": "code",
      "source": [
        "#Evaluating Model Performance\n",
        "\n",
        "from sklearn.metrics import confusion_matrix\n",
        "\n",
        "plt.rcParams['figure.figsize'] = (10, 10)\n",
        "cm = confusion_matrix(y_test, y_pred)\n",
        "sns.heatmap(cm, annot = True, cmap = 'Wistia')\n",
        "plt.title(\"Confusion Matrix for Logistic Regression\", fontsize = 15)\n",
        "plt.show()"
      ],
      "metadata": {
        "colab": {
          "base_uri": "https://localhost:8080/",
          "height": 609
        },
        "id": "IE_jgrcSipvL",
        "outputId": "91d50ddf-c70f-4390-fdaa-540614ec7f39"
      },
      "execution_count": 21,
      "outputs": [
        {
          "output_type": "display_data",
          "data": {
            "image/png": "[encoded data removed]",
            "text/plain": [
              "<Figure size 720x720 with 2 Axes>"
            ]
          },
          "metadata": {
            "needs_background": "light"
          }
        }
      ]
    },
    {
      "cell_type": "code",
      "source": [
        "# Classification Report\n",
        "from sklearn.metrics import classification_report\n",
        "cr = classification_report(y_test, y_pred)\n",
        "print(cr)\n"
      ],
      "metadata": {
        "colab": {
          "base_uri": "https://localhost:8080/"
        },
        "id": "W3Izwk8UiuoZ",
        "outputId": "01da97a4-bf5f-46c2-8c4b-419159546959"
      },
      "execution_count": 22,
      "outputs": [
        {
          "output_type": "stream",
          "name": "stdout",
          "text": [
            "              precision    recall  f1-score   support\n",
            "\n",
            "       apple       1.00      1.00      1.00        18\n",
            "      banana       1.00      1.00      1.00        18\n",
            "   blackgram       0.86      0.82      0.84        22\n",
            "    chickpea       1.00      1.00      1.00        23\n",
            "     coconut       1.00      1.00      1.00        15\n",
            "      coffee       1.00      1.00      1.00        17\n",
            "      cotton       0.89      1.00      0.94        16\n",
            "      grapes       1.00      1.00      1.00        18\n",
            "        jute       0.84      1.00      0.91        21\n",
            " kidneybeans       1.00      1.00      1.00        20\n",
            "      lentil       0.94      0.94      0.94        17\n",
            "       maize       0.94      0.89      0.91        18\n",
            "       mango       1.00      1.00      1.00        21\n",
            "   mothbeans       0.88      0.92      0.90        25\n",
            "    mungbean       1.00      1.00      1.00        17\n",
            "   muskmelon       1.00      1.00      1.00        23\n",
            "      orange       1.00      1.00      1.00        23\n",
            "      papaya       1.00      0.95      0.98        21\n",
            "  pigeonpeas       1.00      1.00      1.00        22\n",
            " pomegranate       1.00      1.00      1.00        23\n",
            "        rice       1.00      0.84      0.91        25\n",
            "  watermelon       1.00      1.00      1.00        17\n",
            "\n",
            "    accuracy                           0.97       440\n",
            "   macro avg       0.97      0.97      0.97       440\n",
            "weighted avg       0.97      0.97      0.97       440\n",
            "\n"
          ]
        }
      ]
    },
    {
      "cell_type": "code",
      "source": [
        "print(data[data['label'] == 'rice'])"
      ],
      "metadata": {
        "colab": {
          "base_uri": "https://localhost:8080/"
        },
        "id": "gGSgUHA5iy62",
        "outputId": "50d312a4-e210-4b40-bf48-882f67a15992"
      },
      "execution_count": 23,
      "outputs": [
        {
          "output_type": "stream",
          "name": "stdout",
          "text": [
            "     N   P   K  temperature   humidity        ph    rainfall label\n",
            "0   90  42  43    20.879744  82.002744  6.502985  202.935536  rice\n",
            "1   85  58  41    21.770462  80.319644  7.038096  226.655537  rice\n",
            "2   60  55  44    23.004459  82.320763  7.840207  263.964248  rice\n",
            "3   74  35  40    26.491096  80.158363  6.980401  242.864034  rice\n",
            "4   78  42  42    20.130175  81.604873  7.628473  262.717340  rice\n",
            "..  ..  ..  ..          ...        ...       ...         ...   ...\n",
            "95  88  46  42    22.683191  83.463583  6.604993  194.265172  rice\n",
            "96  93  47  37    21.533463  82.140041  6.500343  295.924880  rice\n",
            "97  60  55  45    21.408658  83.329319  5.935745  287.576694  rice\n",
            "98  78  35  44    26.543481  84.673536  7.072656  183.622266  rice\n",
            "99  65  37  40    23.359054  83.595123  5.333323  188.413665  rice\n",
            "\n",
            "[100 rows x 8 columns]\n"
          ]
        }
      ]
    },
    {
      "cell_type": "code",
      "source": [
        "prediction = model.predict((np.array([[90,40,40,20,80,7,200]])))\n",
        "print(prediction)"
      ],
      "metadata": {
        "colab": {
          "base_uri": "https://localhost:8080/"
        },
        "id": "uP_ApV2Fi2EV",
        "outputId": "a1d4df18-2f18-46f0-9dd4-47843d85c76e"
      },
      "execution_count": 24,
      "outputs": [
        {
          "output_type": "stream",
          "name": "stdout",
          "text": [
            "['rice']\n"
          ]
        },
        {
          "output_type": "stream",
          "name": "stderr",
          "text": [
            "/usr/local/lib/python3.7/dist-packages/sklearn/base.py:451: UserWarning: X does not have valid feature names, but LogisticRegression was fitted with feature names\n",
            "  \"X does not have valid feature names, but\"\n"
          ]
        }
      ]
    }
  ]
}