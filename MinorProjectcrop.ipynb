{
  "nbformat": 4,
  "nbformat_minor": 0,
  "metadata": {
    "colab": {
      "name": "MinorProject.ipynb",
      "provenance": [],
      "collapsed_sections": [],
      "authorship_tag": "ABX9TyM9UAtKkd+QeGGwllWyBIuY",
      "include_colab_link": true
    },
    "kernelspec": {
      "name": "python3",
      "display_name": "Python 3"
    },
    "language_info": {
      "name": "python"
    }
  },
  "cells": [
    {
      "cell_type": "markdown",
      "metadata": {
        "id": "view-in-github",
        "colab_type": "text"
      },
      "source": [
        "<a href=\"https://colab.research.google.com/github/sweta8144/GRIP_SPARKS/blob/main/MinorProjectcrop.ipynb\" target=\"_parent\"><img src=\"https://colab.research.google.com/assets/colab-badge.svg\" alt=\"Open In Colab\"/></a>"
      ]
    },
    {
      "cell_type": "markdown",
      "metadata": {
        "id": "jMOv5IWIRUnd"
      },
      "source": [
        "# **Crop Prediction using Machine Learning**\n",
        "\n",
        "**October 29**"
      ]
    },
    {
      "cell_type": "code",
      "metadata": {
        "id": "N0PclBDDvn3E"
      },
      "source": [
        "\n",
        "# for data manipulations\n",
        "import numpy as np\n",
        "import pandas as pd\n",
        "\n",
        "# for visualization of data\n",
        "import matplotlib.pyplot as plt\n",
        "import seaborn as sns\n",
        "\n",
        "# for interactivity\n",
        "from ipywidgets import interact\n",
        "\n",
        "# Lets read the dataset\n",
        "data = pd.read_csv('data.csv')"
      ],
      "execution_count": 2,
      "outputs": []
    },
    {
      "cell_type": "code",
      "metadata": {
        "colab": {
          "base_uri": "https://localhost:8080/"
        },
        "id": "Ww549diR7zLh",
        "outputId": "271842bd-370e-43b4-96e5-bc9234402354"
      },
      "source": [
        "# Lets check shape of the dataset\n",
        "print(\"Shape of the Dataset :\", data.shape)"
      ],
      "execution_count": 3,
      "outputs": [
        {
          "output_type": "stream",
          "name": "stdout",
          "text": [
            "Shape of the Dataset : (2200, 8)\n"
          ]
        }
      ]
    },
    {
      "cell_type": "code",
      "metadata": {
        "colab": {
          "base_uri": "https://localhost:8080/",
          "height": 202
        },
        "id": "7STSHrzT8bCq",
        "outputId": "2fe54f4d-ab1c-40f5-df64-89723ab7b8d4"
      },
      "source": [
        "# Lets check the head of the dataset\n",
        "data.head()"
      ],
      "execution_count": 4,
      "outputs": [
        {
          "output_type": "execute_result",
          "data": {
            "text/html": [
              "<div>\n",
              "<style scoped>\n",
              "    .dataframe tbody tr th:only-of-type {\n",
              "        vertical-align: middle;\n",
              "    }\n",
              "\n",
              "    .dataframe tbody tr th {\n",
              "        vertical-align: top;\n",
              "    }\n",
              "\n",
              "    .dataframe thead th {\n",
              "        text-align: right;\n",
              "    }\n",
              "</style>\n",
              "<table border=\"1\" class=\"dataframe\">\n",
              "  <thead>\n",
              "    <tr style=\"text-align: right;\">\n",
              "      <th></th>\n",
              "      <th>N</th>\n",
              "      <th>P</th>\n",
              "      <th>K</th>\n",
              "      <th>temperature</th>\n",
              "      <th>humidity</th>\n",
              "      <th>ph</th>\n",
              "      <th>rainfall</th>\n",
              "      <th>label</th>\n",
              "    </tr>\n",
              "  </thead>\n",
              "  <tbody>\n",
              "    <tr>\n",
              "      <th>0</th>\n",
              "      <td>90</td>\n",
              "      <td>42</td>\n",
              "      <td>43</td>\n",
              "      <td>20.879744</td>\n",
              "      <td>82.002744</td>\n",
              "      <td>6.502985</td>\n",
              "      <td>202.935536</td>\n",
              "      <td>rice</td>\n",
              "    </tr>\n",
              "    <tr>\n",
              "      <th>1</th>\n",
              "      <td>85</td>\n",
              "      <td>58</td>\n",
              "      <td>41</td>\n",
              "      <td>21.770462</td>\n",
              "      <td>80.319644</td>\n",
              "      <td>7.038096</td>\n",
              "      <td>226.655537</td>\n",
              "      <td>rice</td>\n",
              "    </tr>\n",
              "    <tr>\n",
              "      <th>2</th>\n",
              "      <td>60</td>\n",
              "      <td>55</td>\n",
              "      <td>44</td>\n",
              "      <td>23.004459</td>\n",
              "      <td>82.320763</td>\n",
              "      <td>7.840207</td>\n",
              "      <td>263.964248</td>\n",
              "      <td>rice</td>\n",
              "    </tr>\n",
              "    <tr>\n",
              "      <th>3</th>\n",
              "      <td>74</td>\n",
              "      <td>35</td>\n",
              "      <td>40</td>\n",
              "      <td>26.491096</td>\n",
              "      <td>80.158363</td>\n",
              "      <td>6.980401</td>\n",
              "      <td>242.864034</td>\n",
              "      <td>rice</td>\n",
              "    </tr>\n",
              "    <tr>\n",
              "      <th>4</th>\n",
              "      <td>78</td>\n",
              "      <td>42</td>\n",
              "      <td>42</td>\n",
              "      <td>20.130175</td>\n",
              "      <td>81.604873</td>\n",
              "      <td>7.628473</td>\n",
              "      <td>262.717340</td>\n",
              "      <td>rice</td>\n",
              "    </tr>\n",
              "  </tbody>\n",
              "</table>\n",
              "</div>"
            ],
            "text/plain": [
              "    N   P   K  temperature   humidity        ph    rainfall label\n",
              "0  90  42  43    20.879744  82.002744  6.502985  202.935536  rice\n",
              "1  85  58  41    21.770462  80.319644  7.038096  226.655537  rice\n",
              "2  60  55  44    23.004459  82.320763  7.840207  263.964248  rice\n",
              "3  74  35  40    26.491096  80.158363  6.980401  242.864034  rice\n",
              "4  78  42  42    20.130175  81.604873  7.628473  262.717340  rice"
            ]
          },
          "metadata": {},
          "execution_count": 4
        }
      ]
    },
    {
      "cell_type": "code",
      "metadata": {
        "colab": {
          "base_uri": "https://localhost:8080/"
        },
        "id": "lp2miTlB856K",
        "outputId": "54f50688-6963-4bdb-93b4-9f4616d5aaa4"
      },
      "source": [
        "# Lets check if there is any missing value present in the dataset\n",
        "data.isnull().sum()"
      ],
      "execution_count": 5,
      "outputs": [
        {
          "output_type": "execute_result",
          "data": {
            "text/plain": [
              "N              0\n",
              "P              0\n",
              "K              0\n",
              "temperature    0\n",
              "humidity       0\n",
              "ph             0\n",
              "rainfall       0\n",
              "label          0\n",
              "dtype: int64"
            ]
          },
          "metadata": {},
          "execution_count": 5
        }
      ]
    },
    {
      "cell_type": "code",
      "metadata": {
        "colab": {
          "base_uri": "https://localhost:8080/"
        },
        "id": "X1ldBPzL9JGU",
        "outputId": "c5d621e3-ee11-4a59-e9c4-4166b8043cad"
      },
      "source": [
        "# Checking the different crops in the Dataset\n",
        "data['label'].value_counts()"
      ],
      "execution_count": 6,
      "outputs": [
        {
          "output_type": "execute_result",
          "data": {
            "text/plain": [
              "cotton         100\n",
              "blackgram      100\n",
              "coconut        100\n",
              "jute           100\n",
              "banana         100\n",
              "coffee         100\n",
              "apple          100\n",
              "papaya         100\n",
              "mango          100\n",
              "muskmelon      100\n",
              "mothbeans      100\n",
              "rice           100\n",
              "lentil         100\n",
              "pigeonpeas     100\n",
              "chickpea       100\n",
              "grapes         100\n",
              "watermelon     100\n",
              "pomegranate    100\n",
              "mungbean       100\n",
              "kidneybeans    100\n",
              "maize          100\n",
              "orange         100\n",
              "Name: label, dtype: int64"
            ]
          },
          "metadata": {},
          "execution_count": 6
        }
      ]
    },
    {
      "cell_type": "code",
      "metadata": {
        "colab": {
          "base_uri": "https://localhost:8080/"
        },
        "id": "7IHhBQA19o6Q",
        "outputId": "17c8ae0b-756c-4d97-cf8c-db5196785b1b"
      },
      "source": [
        "# Checking the Summary for all the crops \n",
        "print(\"Average Ratio of Nitrogen in the Soil : {0:.2f}\".format(data['N'].mean()))\n",
        "print(\"Average Ratio of Phosphorus in the Soil : {0:.2f}\".format(data['P'].mean()))\n",
        "print(\"Average Ratio of Potassium in the Soil : {0:.2f}\".format(data['K'].mean()))\n",
        "print(\"Average Temperature in Celcius : {0:.2f}\".format(data['temperature'].mean()))\n",
        "print(\"Average Relative Humidity in % : {0:.2f}\".format(data['humidity'].mean()))\n",
        "print(\"Average Rainfall in mm : {0:.2f}\".format(data['rainfall'].mean()))"
      ],
      "execution_count": 7,
      "outputs": [
        {
          "output_type": "stream",
          "name": "stdout",
          "text": [
            "Average Ratio of Nitrogen in the Soil : 50.55\n",
            "Average Ratio of Phosphorus in the Soil : 53.36\n",
            "Average Ratio of Potassium in the Soil : 48.15\n",
            "Average Temperature in Celcius : 25.62\n",
            "Average Relative Humidity in % : 71.48\n",
            "Average Rainfall in mm : 103.46\n"
          ]
        }
      ]
    }
  ]
}